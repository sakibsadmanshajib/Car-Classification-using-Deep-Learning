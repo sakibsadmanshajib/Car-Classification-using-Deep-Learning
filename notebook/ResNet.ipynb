{
 "cells": [
  {
   "cell_type": "code",
   "execution_count": null,
   "source": [
    "from scipy.io import loadmat\r\n",
    "import pandas as pd\r\n",
    "import numpy as np\r\n",
    "import matplotlib.pyplot as plt\r\n",
    "\r\n",
    "\r\n",
    "mat_train = loadmat('../dataset/devkit/cars_train_annos.mat')\r\n",
    "mat_test = loadmat('../dataset/devkit/cars_test_annos.mat')\r\n",
    "meta = loadmat('../dataset/devkit/cars_meta.mat')\r\n",
    "\r\n",
    "labels = [l[0] for l in meta['class_names'][0]]\r\n",
    "train = []\r\n",
    "for example in mat_train['annotations'][0]:\r\n",
    "    label = labels[example[-2][0][0]-1]\r\n",
    "    image = example[-1][0]\r\n",
    "    train.append((image,label))\r\n",
    "\r\n",
    "test = []\r\n",
    "for example in mat_test['annotations'][0]:\r\n",
    "    image = example[-1][0]\r\n",
    "    test.append(image)\r\n",
    "\r\n",
    "validation_size = int(len(train) * 0.10)\r\n",
    "test_size = int(len(train) * 0.20)\r\n",
    "\r\n",
    "validation = train[:validation_size].copy() #800\r\n",
    "np.random.shuffle(validation)\r\n",
    "train = train[validation_size:]\r\n",
    "\r\n",
    "test = train[:test_size].copy() #1600\r\n",
    "np.random.shuffle(test)\r\n",
    "train = train[test_size:]"
   ],
   "outputs": [],
   "metadata": {}
  },
  {
   "cell_type": "code",
   "execution_count": null,
   "source": [
    "import cv2\r\n",
    "import numpy as np\r\n",
    "im_list_train=[]\r\n",
    "label_list_train=[]\r\n",
    "for pic in train:\r\n",
    "    image=cv2.imread(\"../dataset/cars_train/cars_train/\"+pic[0])\r\n",
    "    if image is not None:\r\n",
    "        res = cv2.resize(image, dsize=(100, 100), interpolation=cv2.INTER_CUBIC)\r\n",
    "        res=np.array(res.astype(float))\r\n",
    "        im=np.array(res/255)\r\n",
    "        im_list_train.append(im)\r\n",
    "        label_list_train.append(pic[1])\r\n",
    "    else:\r\n",
    "        print(\"emptytrain\")\r\n",
    "im_list_train=np.array(im_list_train)\r\n",
    "label_list_train=np.array(label_list_train)\r\n",
    "\r\n",
    "im_list_test=[]\r\n",
    "label_list_test=[]\r\n",
    "for pic in test:\r\n",
    "    image=cv2.imread(\"../dataset/cars_test/cars_test/\"+pic[0])\r\n",
    "    if image is not None:\r\n",
    "        res = cv2.resize(image, dsize=(100, 100), interpolation=cv2.INTER_CUBIC)\r\n",
    "        res=np.array(res.astype(float))\r\n",
    "        im=np.array(res/255)\r\n",
    "        im_list_test.append(im)\r\n",
    "        label_list_test.append(pic[1])\r\n",
    "    else:\r\n",
    "        print(\"emptytest\")\r\n",
    "im_list_test=np.array(im_list_test)\r\n",
    "label_list_test=np.array(label_list_test)"
   ],
   "outputs": [],
   "metadata": {}
  },
  {
   "cell_type": "code",
   "execution_count": null,
   "source": [
    "encoded=np.identity(196)"
   ],
   "outputs": [],
   "metadata": {}
  }
 ],
 "metadata": {
  "orig_nbformat": 4,
  "language_info": {
   "name": "python"
  }
 },
 "nbformat": 4,
 "nbformat_minor": 2
}